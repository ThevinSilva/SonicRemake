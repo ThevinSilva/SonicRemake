{
  "cells": [
    {
      "cell_type": "code",
      "execution_count": 2,
      "metadata": {
        "cellView": "form",
        "id": "tv8sDgKvJZY4"
      },
      "outputs": [],
      "source": [
        "# @title Default title text\n",
        "image = \"\"\"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\"\"\""
      ]
    },
    {
      "cell_type": "code",
      "execution_count": 4,
      "metadata": {
        "colab": {
          "base_uri": "https://localhost:8080/"
        },
        "id": "U8-7LFOHJl-3",
        "outputId": "03de2e84-36b6-4be5-cabc-7fdcfee06bb4"
      },
      "outputs": [
        {
          "ename": "ModuleNotFoundError",
          "evalue": "No module named 'PIL'",
          "output_type": "error",
          "traceback": [
            "\u001b[0;31m---------------------------------------------------------------------------\u001b[0m",
            "\u001b[0;31mModuleNotFoundError\u001b[0m                       Traceback (most recent call last)",
            "Cell \u001b[0;32mIn[4], line 2\u001b[0m\n\u001b[1;32m      1\u001b[0m \u001b[38;5;28;01mimport\u001b[39;00m \u001b[38;5;21;01mbase64\u001b[39;00m\n\u001b[0;32m----> 2\u001b[0m \u001b[38;5;28;01mfrom\u001b[39;00m \u001b[38;5;21;01mPIL\u001b[39;00m \u001b[38;5;28;01mimport\u001b[39;00m Image\n\u001b[1;32m      3\u001b[0m \u001b[38;5;28;01mimport\u001b[39;00m \u001b[38;5;21;01mio\u001b[39;00m\n\u001b[1;32m      4\u001b[0m \u001b[38;5;28;01mimport\u001b[39;00m \u001b[38;5;21;01mnumpy\u001b[39;00m \u001b[38;5;28;01mas\u001b[39;00m \u001b[38;5;21;01mnp\u001b[39;00m\n",
            "\u001b[0;31mModuleNotFoundError\u001b[0m: No module named 'PIL'"
          ]
        }
      ],
      "source": [
        "import base64\n",
        "from PIL import Image\n",
        "import io\n",
        "import numpy as np\n",
        "import cv2\n",
        "\n",
        "# Function to convert base64 string to PIL Image\n",
        "def stringToImage(base64_string):\n",
        "    imgdata = base64.b64decode(base64_string)\n",
        "    return Image.open(io.BytesIO(imgdata))\n",
        "\n",
        "# Function to convert PIL Image to RGB format compatible with OpenCV\n",
        "def toRGB(image):\n",
        "    return cv2.cvtColor(np.array(image), cv2.COLOR_BGR2RGB)\n",
        "\n",
        "# Replace this with your base64 encoded image string\n",
        "image_base64 = image\n",
        "\n",
        "# Convert image from base64\n",
        "image_np = toRGB(stringToImage(image_base64))\n",
        "\n",
        "# Scale down the image by a factor of 2 and crop\n",
        "scaled_image = cv2.resize(image_np, None, fx=0.5, fy=0.5, interpolation=cv2.INTER_AREA)[4:, 4:]\n",
        "\n",
        "# Define width and height for each block\n",
        "w = 16\n",
        "h = 16\n",
        "\n",
        "# Dictionary to hold the matrices\n",
        "block_matrices = []\n",
        "\n",
        "# Check each block and create a matrix of 1s and 0s for white pixels\n",
        "for i in range(14):\n",
        "    for j in range(16):\n",
        "        # Extract the block of pixels\n",
        "        block = scaled_image[i*(w+4):((i+1)*w)+(i*4), j*(h+4):((j+1)*h)+(j*4)]\n",
        "\n",
        "        # Create a matrix for this block\n",
        "        matrix = np.zeros((block.shape[0], block.shape[1]), dtype=int)\n",
        "\n",
        "        # Fill the matrix with 1s for white pixels and 0s otherwise\n",
        "        for row in range(block.shape[0]):\n",
        "            for col in range(block.shape[1]):\n",
        "                pixel = block[row, col]\n",
        "                if (pixel == [255, 255, 255]).all():  # Check if pixel is white\n",
        "                    matrix[row, col] = 1\n",
        "\n",
        "        # Store the matrix in the dictionary\n",
        "        block_matrices.append(matrix)\n",
        "\n",
        "# Example of how to access the matrix for block (0, 0)\n",
        "# Column so for height calc\n",
        "# print(block_matrices[1][:,0])\n",
        "\n",
        "\n",
        "heights = []\n",
        "widths = []\n",
        "\n",
        "# row so for width calc\n",
        "for mtrx in block_matrices:\n",
        "  h = []\n",
        "  w = []\n",
        "  for i in range(16):\n",
        "    c = mtrx[:,i]\n",
        "    r = mtrx[i,:]\n",
        "    h.append(len(c[c==1]))\n",
        "    w.append(len(r[r==1]))\n",
        "  heights.append(h)\n",
        "  widths.append(w)\n",
        "\n",
        "len(heights)\n"
      ]
    },
    {
      "cell_type": "code",
      "execution_count": null,
      "metadata": {
        "colab": {
          "base_uri": "https://localhost:8080/"
        },
        "id": "LnvzncqbKRBT",
        "outputId": "df018ea0-2c88-4e45-f18f-1a06ae4733f2"
      },
      "outputs": [
        {
          "ename": "",
          "evalue": "",
          "output_type": "error",
          "traceback": [
            "\u001b[1;31mRunning cells with 'Python 3.9.6' requires the ipykernel package.\n",
            "\u001b[1;31mRun the following command to install 'ipykernel' into the Python environment. \n",
            "\u001b[1;31mCommand: '/usr/bin/python3 -m pip install ipykernel -U --user --force-reinstall'"
          ]
        }
      ],
      "source": [
        "# List to store the angles corresponding to slopes in each block\n",
        "import numpy as np\n",
        "\n",
        "angles = []\n",
        "\n",
        "# Calculate the angle of the slope for each block\n",
        "for mtrx in block_matrices:\n",
        "    # Get the coordinates of white pixels\n",
        "    coords = np.argwhere(mtrx == 1)  # Returns array of [row, col] where mtrx[row, col] == 1\n",
        "\n",
        "    if len(coords) >= 2:\n",
        "        # Separate the coordinates\n",
        "        y = coords[:, 0]  # Row indices (y-coordinates)\n",
        "        x = coords[:, 1]  # Column indices (x-coordinates)\n",
        "\n",
        "        # Fit a line to the points: y = m*x + b\n",
        "        slope, intercept = np.polyfit(x, y, 1)\n",
        "\n",
        "        # Calculate angle in degrees\n",
        "        angle_rad = np.arctan(slope)\n",
        "        angle_deg = np.degrees(angle_rad)\n",
        "\n",
        "        # Adjust angle based on image coordinate system\n",
        "        angle_deg = -angle_deg  # Invert angle due to inverted y-axis in images\n",
        "\n",
        "        angles.append(angle_deg)\n",
        "    else:\n",
        "        # Not enough points to determine a slope\n",
        "        angles.append(None)\n",
        "\n",
        "# Example: Print angles for each block\n",
        "for idx, angle in enumerate(angles):\n",
        "    if angle is not None:\n",
        "      print(f\"Block {idx}: Angle = {np.floor(angle)} degrees\")"
      ]
    },
    {
      "cell_type": "code",
      "execution_count": 3,
      "metadata": {
        "colab": {
          "base_uri": "https://localhost:8080/",
          "height": 227
        },
        "id": "7y3DSM5dgHOL",
        "outputId": "46047d11-8f07-408a-bba8-3eabf47e2c4d"
      },
      "outputs": [
        {
          "ename": "NameError",
          "evalue": "name 'angles' is not defined",
          "output_type": "error",
          "traceback": [
            "\u001b[0;31m---------------------------------------------------------------------------\u001b[0m",
            "\u001b[0;31mNameError\u001b[0m                                 Traceback (most recent call last)",
            "Cell \u001b[0;32mIn[3], line 3\u001b[0m\n\u001b[1;32m      1\u001b[0m \u001b[38;5;28;01mimport\u001b[39;00m \u001b[38;5;21;01mpandas\u001b[39;00m \u001b[38;5;28;01mas\u001b[39;00m \u001b[38;5;21;01mpd\u001b[39;00m\n\u001b[0;32m----> 3\u001b[0m df \u001b[38;5;241m=\u001b[39m pd\u001b[38;5;241m.\u001b[39mDataFrame({\u001b[38;5;124m\"\u001b[39m\u001b[38;5;124mangle\u001b[39m\u001b[38;5;124m\"\u001b[39m : angles, \u001b[38;5;124m\"\u001b[39m\u001b[38;5;124mheights\u001b[39m\u001b[38;5;124m\"\u001b[39m : heights, \u001b[38;5;124m\"\u001b[39m\u001b[38;5;124mwidths\u001b[39m\u001b[38;5;124m\"\u001b[39m : widths, \u001b[38;5;124m\"\u001b[39m\u001b[38;5;124mmatrix\u001b[39m\u001b[38;5;124m\"\u001b[39m : block_matrices })\n\u001b[1;32m      4\u001b[0m \u001b[38;5;28mprint\u001b[39m(\u001b[38;5;28mlen\u001b[39m(df))\n\u001b[1;32m      5\u001b[0m df \u001b[38;5;241m=\u001b[39m df\u001b[38;5;241m.\u001b[39mdropna()\n",
            "\u001b[0;31mNameError\u001b[0m: name 'angles' is not defined"
          ]
        }
      ],
      "source": [
        "import pandas as pd\n",
        "\n",
        "df = pd.DataFrame({\"angle\" : angles, \"heights\" : heights, \"widths\" : widths, \"matrix\" : block_matrices })\n",
        "print(len(df))\n",
        "df = df.dropna()\n",
        "df.to_json(orient='records')"
      ]
    },
    {
      "cell_type": "code",
      "execution_count": 4,
      "metadata": {
        "id": "2hb25QEhwU-Y"
      },
      "outputs": [
        {
          "ename": "NameError",
          "evalue": "name 'df' is not defined",
          "output_type": "error",
          "traceback": [
            "\u001b[0;31m---------------------------------------------------------------------------\u001b[0m",
            "\u001b[0;31mNameError\u001b[0m                                 Traceback (most recent call last)",
            "Cell \u001b[0;32mIn[4], line 2\u001b[0m\n\u001b[1;32m      1\u001b[0m \u001b[38;5;66;03m# Iterate over the DataFrame and save each matrix as an image\u001b[39;00m\n\u001b[0;32m----> 2\u001b[0m \u001b[38;5;28;01mfor\u001b[39;00m idx, row \u001b[38;5;129;01min\u001b[39;00m df\u001b[38;5;241m.\u001b[39miterrows():\n\u001b[1;32m      3\u001b[0m     matrix \u001b[38;5;241m=\u001b[39m row[\u001b[38;5;124m'\u001b[39m\u001b[38;5;124mmatrix\u001b[39m\u001b[38;5;124m'\u001b[39m]\n\u001b[1;32m      5\u001b[0m     \u001b[38;5;66;03m# Convert the matrix of 1s and 0s to an image\u001b[39;00m\n\u001b[1;32m      6\u001b[0m     \u001b[38;5;66;03m# Multiply by 255 to get pixel values (0 or 255)\u001b[39;00m\n",
            "\u001b[0;31mNameError\u001b[0m: name 'df' is not defined"
          ]
        }
      ],
      "source": [
        "# Iterate over the DataFrame and save each matrix as an image\n",
        "for idx, row in df.iterrows():\n",
        "    matrix = row['matrix']\n",
        "\n",
        "    # Convert the matrix of 1s and 0s to an image\n",
        "    # Multiply by 255 to get pixel values (0 or 255)\n",
        "    image_array = (matrix * 255).astype(np.uint8)\n",
        "\n",
        "    # Create a PIL Image from the numpy array\n",
        "    img = Image.fromarray(image_array, mode='L')  # 'L' mode for grayscale images\n",
        "\n",
        "    # Optionally, you can resize or process the image further here\n",
        "\n",
        "    # Save the image with the ID (index) as the filename\n",
        "    img.save(f'block_{idx}.png')"
      ]
    },
    {
      "cell_type": "code",
      "execution_count": null,
      "metadata": {
        "id": "XRKHAHdhwZPw"
      },
      "outputs": [],
      "source": []
    },
    {
      "cell_type": "code",
      "execution_count": null,
      "metadata": {},
      "outputs": [],
      "source": []
    },
    {
      "cell_type": "code",
      "execution_count": null,
      "metadata": {},
      "outputs": [],
      "source": []
    },
    {
      "cell_type": "code",
      "execution_count": null,
      "metadata": {},
      "outputs": [],
      "source": []
    },
    {
      "cell_type": "code",
      "execution_count": null,
      "metadata": {},
      "outputs": [],
      "source": []
    }
  ],
  "metadata": {
    "colab": {
      "provenance": []
    },
    "kernelspec": {
      "display_name": "Python 3",
      "language": "python",
      "name": "python3"
    },
    "language_info": {
      "codemirror_mode": {
        "name": "ipython",
        "version": 3
      },
      "file_extension": ".py",
      "mimetype": "text/x-python",
      "name": "python",
      "nbconvert_exporter": "python",
      "pygments_lexer": "ipython3",
      "version": "3.9.6"
    }
  },
  "nbformat": 4,
  "nbformat_minor": 0
}
